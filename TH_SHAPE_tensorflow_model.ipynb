{
  "nbformat": 4,
  "nbformat_minor": 0,
  "metadata": {
    "colab": {
      "name": "TH_SHAPE_tensorflow_model.ipynb",
      "provenance": [],
      "authorship_tag": "ABX9TyOGiG4emLDYTRpLz/19ylaC",
      "include_colab_link": true
    },
    "kernelspec": {
      "name": "python3",
      "display_name": "Python 3"
    },
    "language_info": {
      "name": "python"
    },
    "accelerator": "GPU"
  },
  "cells": [
    {
      "cell_type": "markdown",
      "metadata": {
        "id": "view-in-github",
        "colab_type": "text"
      },
      "source": [
        "<a href=\"https://colab.research.google.com/github/tirth-hihoriya/CPP_World/blob/master/TH_SHAPE_tensorflow_model.ipynb\" target=\"_parent\"><img src=\"https://colab.research.google.com/assets/colab-badge.svg\" alt=\"Open In Colab\"/></a>"
      ]
    },
    {
      "cell_type": "markdown",
      "source": [
        "# `Author`: Tirth Hihoriya\n",
        "# `Date`: 12th Jan 2022\n",
        "# `Label`: SHAPE\n",
        "<hr>\n"
      ],
      "metadata": {
        "id": "MDP35MpPnCtN"
      }
    },
    {
      "cell_type": "code",
      "source": [
        "!python --version"
      ],
      "metadata": {
        "colab": {
          "base_uri": "https://localhost:8080/"
        },
        "id": "Jd4ix182r0a2",
        "outputId": "44e4b085-48df-482e-ca81-cf7938145e56"
      },
      "execution_count": null,
      "outputs": [
        {
          "output_type": "stream",
          "name": "stdout",
          "text": [
            "Python 3.7.12\n"
          ]
        }
      ]
    },
    {
      "cell_type": "markdown",
      "source": [
        "## Mount Drive\n",
        "- Time: 20s"
      ],
      "metadata": {
        "id": "Q3NvIIcPlOjF"
      }
    },
    {
      "cell_type": "code",
      "execution_count": null,
      "metadata": {
        "colab": {
          "base_uri": "https://localhost:8080/"
        },
        "id": "sLqiO7lEk5y6",
        "outputId": "02aadc32-73cf-4ccc-84ed-9e93a84bd75a"
      },
      "outputs": [
        {
          "output_type": "stream",
          "name": "stdout",
          "text": [
            "Drive already mounted at /content/drive; to attempt to forcibly remount, call drive.mount(\"/content/drive\", force_remount=True).\n",
            "CPU times: user 21.5 ms, sys: 1.1 ms, total: 22.6 ms\n",
            "Wall time: 3.07 s\n"
          ]
        }
      ],
      "source": [
        "%%time\n",
        "from google.colab import drive\n",
        "drive.mount('/content/drive')"
      ]
    },
    {
      "cell_type": "markdown",
      "source": [
        "# Import Libraries"
      ],
      "metadata": {
        "id": "foGMlx4toWvf"
      }
    },
    {
      "cell_type": "code",
      "source": [
        "import pandas as pd\n",
        "import numpy as np\n",
        "import random\n",
        "import time\n",
        "import shutil\n",
        "\n",
        "import os\n",
        "\n",
        "import logging\n",
        "\n",
        "import matplotlib.pyplot as plt\n",
        "import tensorflow as tf\n",
        "\n",
        "\n",
        "print('Tenserflow version : ',tf.__version__)"
      ],
      "metadata": {
        "id": "vQWFd_MDoZhN",
        "colab": {
          "base_uri": "https://localhost:8080/"
        },
        "outputId": "0dcc5fbb-0f51-4ba8-efa6-3e292f0d90e3"
      },
      "execution_count": null,
      "outputs": [
        {
          "output_type": "stream",
          "name": "stdout",
          "text": [
            "Tenserflow version :  2.7.0\n"
          ]
        }
      ]
    },
    {
      "cell_type": "markdown",
      "source": [
        "## Dataset for `SHAPE`\n",
        "\n",
        "- `9135` diamond images (`TOP` view)\n",
        "- **`!rm -rf /content/gia_images`** if you want to delete `gia_images` folder\n",
        "- Time : 1min 10s"
      ],
      "metadata": {
        "id": "KeOnEbz0leTN"
      }
    },
    {
      "cell_type": "code",
      "source": [
        "%%time\n",
        "dataset_dir = \"/content/drive/MyDrive/V360 Data Set/SHAPE_Dataset/\"\n",
        "\n",
        "all_gia_numbers = os.listdir(dataset_dir)\n",
        "number_of_diamonds = len(all_gia_numbers)\n",
        "print(f'Number of diamonds unrared = {number_of_diamonds}\\n')"
      ],
      "metadata": {
        "colab": {
          "base_uri": "https://localhost:8080/"
        },
        "id": "ezpu0k7PlTw9",
        "outputId": "5aabafe5-718c-45d2-8ae3-863470f595ef"
      },
      "execution_count": null,
      "outputs": [
        {
          "output_type": "stream",
          "name": "stdout",
          "text": [
            "Number of diamonds unrared = 9135\n",
            "\n",
            "CPU times: user 189 ms, sys: 31 ms, total: 220 ms\n",
            "Wall time: 1min 9s\n"
          ]
        }
      ]
    },
    {
      "cell_type": "markdown",
      "source": [
        "###  Reading the `CSV` with all the `gia_numbers`(diamonds) and their labels.\n",
        "- requires `pandas` library\n",
        "\n",
        "![image.png](data:image/png;base64,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)\n"
      ],
      "metadata": {
        "id": "LlrVAQPC0c_i"
      }
    },
    {
      "cell_type": "code",
      "source": [
        "working_dir = \"/content/drive/MyDrive/V360 Data Set/\"\n",
        "csv_file_name = 'FINAL_9135_GIA_NUMBER_LIST_LABEL_CCSFPS.csv'\n",
        "path_csv = f'{working_dir}{csv_file_name}'\n",
        "\n",
        "gia_data = pd.read_csv(path_csv, index_col=0)\n",
        "gia_data.head()"
      ],
      "metadata": {
        "id": "5b_FnNO4uBMz",
        "colab": {
          "base_uri": "https://localhost:8080/",
          "height": 206
        },
        "outputId": "3db0b875-7000-4062-d89d-a8f66f8787e5"
      },
      "execution_count": null,
      "outputs": [
        {
          "output_type": "execute_result",
          "data": {
            "text/html": [
              "\n",
              "  <div id=\"df-249e68cf-1914-41e7-8f61-290acb3b029c\">\n",
              "    <div class=\"colab-df-container\">\n",
              "      <div>\n",
              "<style scoped>\n",
              "    .dataframe tbody tr th:only-of-type {\n",
              "        vertical-align: middle;\n",
              "    }\n",
              "\n",
              "    .dataframe tbody tr th {\n",
              "        vertical-align: top;\n",
              "    }\n",
              "\n",
              "    .dataframe thead th {\n",
              "        text-align: right;\n",
              "    }\n",
              "</style>\n",
              "<table border=\"1\" class=\"dataframe\">\n",
              "  <thead>\n",
              "    <tr style=\"text-align: right;\">\n",
              "      <th></th>\n",
              "      <th>GIA_NUMBER</th>\n",
              "      <th>Clarity</th>\n",
              "      <th>Color</th>\n",
              "      <th>Shape</th>\n",
              "      <th>Polish</th>\n",
              "      <th>Symmetry</th>\n",
              "      <th>Fluorescence</th>\n",
              "    </tr>\n",
              "  </thead>\n",
              "  <tbody>\n",
              "    <tr>\n",
              "      <th>0</th>\n",
              "      <td>1343459769</td>\n",
              "      <td>VS2</td>\n",
              "      <td>H</td>\n",
              "      <td>PR</td>\n",
              "      <td>EX</td>\n",
              "      <td>VG</td>\n",
              "      <td>NONE</td>\n",
              "    </tr>\n",
              "    <tr>\n",
              "      <th>1</th>\n",
              "      <td>2195356585</td>\n",
              "      <td>VS1</td>\n",
              "      <td>H</td>\n",
              "      <td>RD</td>\n",
              "      <td>EX</td>\n",
              "      <td>EX</td>\n",
              "      <td>FAINT</td>\n",
              "    </tr>\n",
              "    <tr>\n",
              "      <th>2</th>\n",
              "      <td>2205533675</td>\n",
              "      <td>VS1</td>\n",
              "      <td>D</td>\n",
              "      <td>OV</td>\n",
              "      <td>EX</td>\n",
              "      <td>VG</td>\n",
              "      <td>NONE</td>\n",
              "    </tr>\n",
              "    <tr>\n",
              "      <th>3</th>\n",
              "      <td>2357655101</td>\n",
              "      <td>SI1</td>\n",
              "      <td>F</td>\n",
              "      <td>RD</td>\n",
              "      <td>EX</td>\n",
              "      <td>EX</td>\n",
              "      <td>NONE</td>\n",
              "    </tr>\n",
              "    <tr>\n",
              "      <th>4</th>\n",
              "      <td>5323820403</td>\n",
              "      <td>VS2</td>\n",
              "      <td>G</td>\n",
              "      <td>PR</td>\n",
              "      <td>EX</td>\n",
              "      <td>VG</td>\n",
              "      <td>NONE</td>\n",
              "    </tr>\n",
              "  </tbody>\n",
              "</table>\n",
              "</div>\n",
              "      <button class=\"colab-df-convert\" onclick=\"convertToInteractive('df-249e68cf-1914-41e7-8f61-290acb3b029c')\"\n",
              "              title=\"Convert this dataframe to an interactive table.\"\n",
              "              style=\"display:none;\">\n",
              "        \n",
              "  <svg xmlns=\"http://www.w3.org/2000/svg\" height=\"24px\"viewBox=\"0 0 24 24\"\n",
              "       width=\"24px\">\n",
              "    <path d=\"M0 0h24v24H0V0z\" fill=\"none\"/>\n",
              "    <path d=\"M18.56 5.44l.94 2.06.94-2.06 2.06-.94-2.06-.94-.94-2.06-.94 2.06-2.06.94zm-11 1L8.5 8.5l.94-2.06 2.06-.94-2.06-.94L8.5 2.5l-.94 2.06-2.06.94zm10 10l.94 2.06.94-2.06 2.06-.94-2.06-.94-.94-2.06-.94 2.06-2.06.94z\"/><path d=\"M17.41 7.96l-1.37-1.37c-.4-.4-.92-.59-1.43-.59-.52 0-1.04.2-1.43.59L10.3 9.45l-7.72 7.72c-.78.78-.78 2.05 0 2.83L4 21.41c.39.39.9.59 1.41.59.51 0 1.02-.2 1.41-.59l7.78-7.78 2.81-2.81c.8-.78.8-2.07 0-2.86zM5.41 20L4 18.59l7.72-7.72 1.47 1.35L5.41 20z\"/>\n",
              "  </svg>\n",
              "      </button>\n",
              "      \n",
              "  <style>\n",
              "    .colab-df-container {\n",
              "      display:flex;\n",
              "      flex-wrap:wrap;\n",
              "      gap: 12px;\n",
              "    }\n",
              "\n",
              "    .colab-df-convert {\n",
              "      background-color: #E8F0FE;\n",
              "      border: none;\n",
              "      border-radius: 50%;\n",
              "      cursor: pointer;\n",
              "      display: none;\n",
              "      fill: #1967D2;\n",
              "      height: 32px;\n",
              "      padding: 0 0 0 0;\n",
              "      width: 32px;\n",
              "    }\n",
              "\n",
              "    .colab-df-convert:hover {\n",
              "      background-color: #E2EBFA;\n",
              "      box-shadow: 0px 1px 2px rgba(60, 64, 67, 0.3), 0px 1px 3px 1px rgba(60, 64, 67, 0.15);\n",
              "      fill: #174EA6;\n",
              "    }\n",
              "\n",
              "    [theme=dark] .colab-df-convert {\n",
              "      background-color: #3B4455;\n",
              "      fill: #D2E3FC;\n",
              "    }\n",
              "\n",
              "    [theme=dark] .colab-df-convert:hover {\n",
              "      background-color: #434B5C;\n",
              "      box-shadow: 0px 1px 3px 1px rgba(0, 0, 0, 0.15);\n",
              "      filter: drop-shadow(0px 1px 2px rgba(0, 0, 0, 0.3));\n",
              "      fill: #FFFFFF;\n",
              "    }\n",
              "  </style>\n",
              "\n",
              "      <script>\n",
              "        const buttonEl =\n",
              "          document.querySelector('#df-249e68cf-1914-41e7-8f61-290acb3b029c button.colab-df-convert');\n",
              "        buttonEl.style.display =\n",
              "          google.colab.kernel.accessAllowed ? 'block' : 'none';\n",
              "\n",
              "        async function convertToInteractive(key) {\n",
              "          const element = document.querySelector('#df-249e68cf-1914-41e7-8f61-290acb3b029c');\n",
              "          const dataTable =\n",
              "            await google.colab.kernel.invokeFunction('convertToInteractive',\n",
              "                                                     [key], {});\n",
              "          if (!dataTable) return;\n",
              "\n",
              "          const docLinkHtml = 'Like what you see? Visit the ' +\n",
              "            '<a target=\"_blank\" href=https://colab.research.google.com/notebooks/data_table.ipynb>data table notebook</a>'\n",
              "            + ' to learn more about interactive tables.';\n",
              "          element.innerHTML = '';\n",
              "          dataTable['output_type'] = 'display_data';\n",
              "          await google.colab.output.renderOutput(dataTable, element);\n",
              "          const docLink = document.createElement('div');\n",
              "          docLink.innerHTML = docLinkHtml;\n",
              "          element.appendChild(docLink);\n",
              "        }\n",
              "      </script>\n",
              "    </div>\n",
              "  </div>\n",
              "  "
            ],
            "text/plain": [
              "   GIA_NUMBER Clarity Color Shape Polish Symmetry Fluorescence\n",
              "0  1343459769     VS2     H    PR     EX       VG         NONE\n",
              "1  2195356585     VS1     H    RD     EX       EX        FAINT\n",
              "2  2205533675     VS1     D    OV     EX       VG         NONE\n",
              "3  2357655101     SI1     F    RD     EX       EX         NONE\n",
              "4  5323820403     VS2     G    PR     EX       VG         NONE"
            ]
          },
          "metadata": {},
          "execution_count": 6
        }
      ]
    },
    {
      "cell_type": "markdown",
      "source": [
        "### Distribution of `SHAPE` label among 9135 diamonds into different classes\n",
        "\n",
        "![image.png](data:image/png;base64,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)"
      ],
      "metadata": {
        "id": "UWbYJeJ5-fOR"
      }
    },
    {
      "cell_type": "code",
      "source": [
        "gia_data.Shape.value_counts()"
      ],
      "metadata": {
        "colab": {
          "base_uri": "https://localhost:8080/"
        },
        "id": "Z8iAJdwSmAL9",
        "outputId": "a96946b2-b5e4-4b33-dc98-95e3217a0c09"
      },
      "execution_count": null,
      "outputs": [
        {
          "output_type": "execute_result",
          "data": {
            "text/plain": [
              "RD     3699\n",
              "OV     1325\n",
              "EM      971\n",
              "CMB     961\n",
              "PR      542\n",
              "PS      542\n",
              "RA      354\n",
              "AS      279\n",
              "MQ      188\n",
              "BR      142\n",
              "HS      126\n",
              "PE        3\n",
              "SEM       2\n",
              "TRI       1\n",
              "Name: Shape, dtype: int64"
            ]
          },
          "metadata": {},
          "execution_count": 7
        }
      ]
    },
    {
      "cell_type": "code",
      "source": [
        "%%time\n",
        "shape_classes = ['RD','OV','EM','CMB','PR','PS','RA','AS','MQ','BR','HS']  # 11 classes\n",
        "# class_not_dealing = ['PE','SEM','TRI']  # 3 classes\n",
        "\n",
        "distribution = {}\n",
        "\n",
        "#initialse dictionary with empty list for all classes\n",
        "for shape_class in shape_classes:\n",
        "    distribution[shape_class] = []\n",
        "\n",
        "#classify gia_numbers based on shape_class\n",
        "for index,row in gia_data.iterrows():\n",
        "    if row['Shape'] in shape_classes:\n",
        "        distribution[row['Shape']].append(row['GIA_NUMBER'])"
      ],
      "metadata": {
        "colab": {
          "base_uri": "https://localhost:8080/"
        },
        "id": "vk8rx9xrv6Xx",
        "outputId": "36fb1843-946e-4d5f-d154-51b8b9ef7b8b"
      },
      "execution_count": null,
      "outputs": [
        {
          "output_type": "stream",
          "name": "stdout",
          "text": [
            "CPU times: user 649 ms, sys: 0 ns, total: 649 ms\n",
            "Wall time: 650 ms\n"
          ]
        }
      ]
    },
    {
      "cell_type": "code",
      "source": [
        ""
      ],
      "metadata": {
        "id": "aE77pMg4Nu16"
      },
      "execution_count": null,
      "outputs": []
    },
    {
      "cell_type": "code",
      "source": [
        "%%time\n",
        "random.seed(10)\n",
        "\n",
        "number_of_diamonds_per_class = 125\n",
        "\n",
        "#list initialization\n",
        "train_gia_list = []\n",
        "test_gia_list  = []\n",
        "\n",
        "for shape_classs, gia_list in distribution.items(): \n",
        "    random.shuffle(gia_list)\n",
        "    train_gia_list.extend(gia_list[:int(number_of_diamonds_per_class*train_test_ratio)])\n",
        "    test_gia_list.extend(gia_list[-(int(number_of_diamonds_per_class*(1-train_test_ratio)))-1:])\n",
        "\n",
        "print('Train set size : ', len(train_gia_list))\n",
        "print('Test set size : ', len(test_gia_list))"
      ],
      "metadata": {
        "id": "y7Dt57fRNvuZ"
      },
      "execution_count": null,
      "outputs": []
    },
    {
      "cell_type": "markdown",
      "source": [
        "## Spliting the diamonds into `Train` and `Test` sets"
      ],
      "metadata": {
        "id": "8WOYyuCnlrQY"
      }
    },
    {
      "cell_type": "code",
      "source": [
        "%%time\n",
        "random.seed(10)\n",
        "\n",
        "number_of_diamonds_per_class = 125\n",
        "train_test_ratio = 0.8\n",
        "\n",
        "#list initialization\n",
        "train_gia_list = []\n",
        "test_gia_list  =[]\n",
        "\n",
        "for shape_classs, gia_list in distribution.items(): \n",
        "    random.shuffle(gia_list)\n",
        "    train_gia_list.extend(gia_list[:int(number_of_diamonds_per_class*train_test_ratio)])\n",
        "    test_gia_list.extend(gia_list[-(int(number_of_diamonds_per_class*(1-train_test_ratio)))-1:])\n",
        "\n",
        "print('Train set size : ', len(train_gia_list))\n",
        "print('Test set size : ', len(test_gia_list))"
      ],
      "metadata": {
        "id": "JedaA1_W0xb-",
        "colab": {
          "base_uri": "https://localhost:8080/"
        },
        "outputId": "7d7bbf82-599d-49e5-cd13-080d373d369f"
      },
      "execution_count": null,
      "outputs": [
        {
          "output_type": "stream",
          "name": "stdout",
          "text": [
            "Train set size :  1100\n",
            "Test set size :  275\n",
            "CPU times: user 6.52 ms, sys: 0 ns, total: 6.52 ms\n",
            "Wall time: 6.41 ms\n"
          ]
        }
      ]
    },
    {
      "cell_type": "markdown",
      "source": [
        "## Divide into `Train` and `Test` folder\n",
        " - Time: 8m 10s"
      ],
      "metadata": {
        "id": "6-NVYRQZ2V07"
      }
    },
    {
      "cell_type": "code",
      "source": [
        "%%time\n",
        "train_dir = '/content/train_set/'\n",
        "test_dir = '/content/test_set/'\n",
        "\n",
        "if not os.path.exists(train_dir):\n",
        "    os.mkdir(train_dir)\n",
        "if not os.path.exists(test_dir):\n",
        "    os.mkdir(test_dir)\n",
        "\n",
        "print('Start...\\n')\n",
        "for gia in train_gia_list:\n",
        "    shutil.copyfile(f'{dataset_dir}{gia}.png',f'{train_dir}{gia}.png')\n",
        "for gia in test_gia_list:\n",
        "    shutil.copyfile(f'{dataset_dir}{gia}.png',f'{test_dir}{gia}.png')\n",
        "print('...Complete')"
      ],
      "metadata": {
        "colab": {
          "base_uri": "https://localhost:8080/"
        },
        "id": "YAaIkMsH2JEV",
        "outputId": "742d799a-2510-4949-9a98-2a2f629ac9f7"
      },
      "execution_count": null,
      "outputs": [
        {
          "output_type": "stream",
          "name": "stdout",
          "text": [
            "Start...\n",
            "\n",
            "...Complete\n",
            "CPU times: user 1.71 s, sys: 636 ms, total: 2.35 s\n",
            "Wall time: 8min 9s\n"
          ]
        }
      ]
    },
    {
      "cell_type": "code",
      "source": [
        ""
      ],
      "metadata": {
        "id": "U8hrOTWzIKyz"
      },
      "execution_count": null,
      "outputs": []
    }
  ]
}